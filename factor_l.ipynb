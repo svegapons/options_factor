{
 "cells": [
  {
   "cell_type": "code",
   "execution_count": null,
   "metadata": {},
   "outputs": [],
   "source": [
    "import requests\n",
    "import json\n",
    "import numpy as np\n",
    "import pandas as pd\n",
    "import pytz\n",
    "from datetime import datetime, timedelta"
   ]
  },
  {
   "cell_type": "code",
   "execution_count": null,
   "metadata": {},
   "outputs": [],
   "source": [
    "#List of symbols\n",
    "symb_list = ['NFLX','AAPL','GOOG','ROKU','FB','BABA','GOOGL','MSFT','NVDA','AMD','GM','WMT','TGT','JPM','ORCL',\n",
    "             'LUV','AAL','DAL','SBUX','UAA','SPY','CMG','HD','INTC','RTN','CMI','SYMC','NKTR','EBAY','WYNN',\n",
    "             'TWTR','SAGE','SQ','AXP','TSLA','ICPT']"
   ]
  },
  {
   "cell_type": "code",
   "execution_count": null,
   "metadata": {},
   "outputs": [],
   "source": [
    "##header of requests (the same for all endpoints)\n",
    "headers = {\n",
    "           \"Accept\":\"application/json\",\n",
    "           \"Authorization\":\"Bearer <access_token_here>\",\n",
    "}"
   ]
  },
  {
   "cell_type": "code",
   "execution_count": null,
   "metadata": {},
   "outputs": [],
   "source": [
    "# Quotes endopoint\n",
    "params = (\n",
    "        ('symbols', ','.join(symb_list)),\n",
    ")\n",
    "response = requests.get('https://sandbox.tradier.com/v1/markets/quotes', headers=headers, params=params)"
   ]
  },
  {
   "cell_type": "code",
   "execution_count": null,
   "metadata": {},
   "outputs": [],
   "source": [
    "#Getting data into a Pandas dataframe\n",
    "df = pd.DataFrame(response.json()['quotes']['quote'])"
   ]
  },
  {
   "cell_type": "code",
   "execution_count": null,
   "metadata": {},
   "outputs": [],
   "source": [
    "#Dict with Stock symbol and price\n",
    "symb_dict = {}\n",
    "_ = df.apply(lambda x: symb_dict.update({x['symbol'] : x['last']}), axis=1)"
   ]
  },
  {
   "cell_type": "markdown",
   "metadata": {},
   "source": [
    "#### Computing expirations dates (depends on parameter n_dates)"
   ]
  },
  {
   "cell_type": "code",
   "execution_count": null,
   "metadata": {},
   "outputs": [],
   "source": [
    "n_dates = 5"
   ]
  },
  {
   "cell_type": "code",
   "execution_count": null,
   "metadata": {},
   "outputs": [],
   "source": [
    "dayofweek = datetime.today().weekday()"
   ]
  },
  {
   "cell_type": "code",
   "execution_count": null,
   "metadata": {},
   "outputs": [],
   "source": [
    "dates = []\n",
    "delta_friday = 4 - dayofweek\n",
    "if delta_friday < 0:\n",
    "    delta_friday = delta_friday + 7\n",
    "for i in range(n_dates):\n",
    "    dates.append(datetime.today() + timedelta(delta_friday + 7*i)) "
   ]
  },
  {
   "cell_type": "code",
   "execution_count": null,
   "metadata": {},
   "outputs": [],
   "source": []
  },
  {
   "cell_type": "code",
   "execution_count": null,
   "metadata": {},
   "outputs": [],
   "source": [
    "### How many \"levels\" to keep for both calls and puts\n",
    "n_levels = 10"
   ]
  },
  {
   "cell_type": "markdown",
   "metadata": {},
   "source": [
    "### Main loop that gets option chains and keep/compute relevant fields"
   ]
  },
  {
   "cell_type": "code",
   "execution_count": null,
   "metadata": {},
   "outputs": [],
   "source": [
    "dataframes = []\n",
    "#Call options api for all symbols and for all expiration dates\n",
    "for symb in df.symbol.values:\n",
    "    for exp_date in dates:    \n",
    "        #Calling options chain endpoint\n",
    "        params = (\n",
    "                ('symbol', symb),\n",
    "                ('expiration', str(exp_date)[:10]),\n",
    "        )\n",
    "        response = requests.get('https://sandbox.tradier.com/v1/markets/options/chains', \n",
    "                                headers=headers, params=params)\n",
    "      \n",
    "        print(response)\n",
    "        \n",
    "        #Getting the data as a Pandas dataframe\n",
    "        df_opt = pd.DataFrame(response.json()['options']['option'])        \n",
    "        df_opt.rename(columns={'last':'premium'}, inplace=True)        \n",
    "        df_opt.dropna(subset=['premium'], inplace=True)\n",
    "        \n",
    "        #percent_diff is a measure of how far is the strike price moving from the stock price. It is used to compute\n",
    "        #level_diff.\n",
    "        df_opt['percent_diff'] = df_opt.strike.apply(lambda x: ((x - symb_dict[symb]) * 100) / symb_dict[symb]) \n",
    "        df_opt['stock_price'] = symb_dict[symb]\n",
    "    \n",
    "        #Working on puts.Keeping n_levels below stock price.\n",
    "        df_put = df_opt.loc[df_opt.option_type == 'put']                                          \n",
    "        df_put = df_put.loc[df_put.strike < symb_dict[symb]]\n",
    "        df_put['level_diff'] = df_put.percent_diff.abs().argsort().argsort() + 1                                 \n",
    "        df_put = df_put.loc[df_put.level_diff < n_levels]\n",
    "\n",
    "        #Working on calls. Keeping n_levels above stock price.\n",
    "        df_call = df_opt.loc[df_opt.option_type == 'call']\n",
    "        df_call = df_call.loc[df_call.strike > symb_dict[symb]]\n",
    "        df_call['level_diff'] = df_call.percent_diff.abs().argsort().argsort() + 1 \n",
    "        df_call = df_call.loc[df_call.level_diff < n_levels]\n",
    "        \n",
    "        #Concatenating calls and puts\n",
    "        df_res = pd.concat([df_put, df_call], ignore_index=True, axis=0)\n",
    "        \n",
    "        #Sorting dataframe and keeping relevant columns.\n",
    "        df_res = df_res.loc[:, ['underlying', 'stock_price', 'option_type', 'expiration_date', 'premium', 'strike', 'percent_diff', 'level_diff', 'description']]\n",
    "        df_res.sort_values(by='percent_diff', axis='index', inplace=True)\n",
    "        df_res = df_res.reset_index(drop=True)\n",
    "        df_res['factor'] = df_res.apply(lambda x: x['premium'] / x['stock_price'], axis=1)\n",
    "        \n",
    "        #all dataframes are added to 'dataframes' list\n",
    "        dataframes.append(df_res)\n",
    "  "
   ]
  },
  {
   "cell_type": "code",
   "execution_count": null,
   "metadata": {},
   "outputs": [],
   "source": [
    "#Final datframe with all relevant information\n",
    "df_factors = pd.concat(dataframes, ignore_index=True)"
   ]
  },
  {
   "cell_type": "code",
   "execution_count": null,
   "metadata": {},
   "outputs": [],
   "source": [
    "df_factors.shape"
   ]
  },
  {
   "cell_type": "markdown",
   "metadata": {},
   "source": [
    "### Creating a bar plot from df_factors dataframe"
   ]
  },
  {
   "cell_type": "code",
   "execution_count": null,
   "metadata": {},
   "outputs": [],
   "source": [
    "import holoviews as hv\n",
    "from bokeh.server.server import Server\n",
    "from holoviews import opts\n",
    "hv.extension('bokeh')"
   ]
  },
  {
   "cell_type": "code",
   "execution_count": null,
   "metadata": {},
   "outputs": [],
   "source": [
    "table = hv.Table(df_factors)"
   ]
  },
  {
   "cell_type": "code",
   "execution_count": null,
   "metadata": {},
   "outputs": [],
   "source": [
    "plot = table.to.bars(kdims=['underlying'], \n",
    "                     vdims=['factor', 'stock_price', 'premium', 'strike', 'description'], \n",
    "                     groupby=['option_type', 'level_diff', 'expiration_date'])"
   ]
  },
  {
   "cell_type": "code",
   "execution_count": null,
   "metadata": {},
   "outputs": [],
   "source": [
    "##Plotting inline in the notebook\n",
    "plot.opts(opts.Bars(color=hv.Cycle('Category20'), show_legend=False, stacked=True, tools=['hover'], width=700))"
   ]
  },
  {
   "cell_type": "markdown",
   "metadata": {},
   "source": [
    "### Deploying it as a Bokeh app"
   ]
  },
  {
   "cell_type": "code",
   "execution_count": null,
   "metadata": {},
   "outputs": [],
   "source": [
    "renderer = hv.renderer('bokeh')\n",
    "rend_app = plot.options(width=1500, height=800)\n",
    "app = renderer.app(rend_app)"
   ]
  },
  {
   "cell_type": "code",
   "execution_count": null,
   "metadata": {},
   "outputs": [],
   "source": [
    "server = Server({'/':app}, port=8001, allow_websocket_origin=[\"*\"])\n",
    "server.start()"
   ]
  },
  {
   "cell_type": "code",
   "execution_count": null,
   "metadata": {},
   "outputs": [],
   "source": [
    "server.show('/')"
   ]
  },
  {
   "cell_type": "code",
   "execution_count": null,
   "metadata": {},
   "outputs": [],
   "source": [
    "# server.stop()"
   ]
  },
  {
   "cell_type": "code",
   "execution_count": null,
   "metadata": {},
   "outputs": [],
   "source": []
  }
 ],
 "metadata": {
  "kernelspec": {
   "display_name": "Python 3",
   "language": "python",
   "name": "python3"
  },
  "language_info": {
   "codemirror_mode": {
    "name": "ipython",
    "version": 3
   },
   "file_extension": ".py",
   "mimetype": "text/x-python",
   "name": "python",
   "nbconvert_exporter": "python",
   "pygments_lexer": "ipython3",
   "version": "3.6.8"
  }
 },
 "nbformat": 4,
 "nbformat_minor": 2
}
